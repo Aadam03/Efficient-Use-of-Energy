{
  "nbformat": 4,
  "nbformat_minor": 0,
  "metadata": {
    "colab": {
      "provenance": []
    },
    "kernelspec": {
      "name": "python3",
      "display_name": "Python 3"
    },
    "language_info": {
      "name": "python"
    }
  },
  "cells": [
    {
      "cell_type": "code",
      "execution_count": null,
      "metadata": {
        "id": "rYdcIH_0PLkE"
      },
      "outputs": [],
      "source": [
        "import numpy as np\n",
        "import pandas as pd\n",
        "import matplotlib.pyplot as plt"
      ]
    },
    {
      "cell_type": "markdown",
      "source": [
        "### Read U value data in for house"
      ],
      "metadata": {
        "id": "nWn2gU8MTFlh"
      }
    },
    {
      "cell_type": "code",
      "source": [
        "\n",
        "excel_url = \"https://github.com/Aadam03/Efficient-Use-of-Energy/raw/main/Home%20measurments%20and%20calcs.xlsx\"\n",
        "\n",
        "# Read the Excel file into a DataFrame\n",
        "sheet_name = 'Final Data'\n",
        "House_Data = pd.read_excel(excel_url,sheet_name=sheet_name)\n",
        "Volume = pd.read_excel(excel_url,sheet_name='Volumes')\n",
        "\n",
        "U_values = House_Data['U ']\n",
        "U_values = np.array(U_values)\n",
        "Total_U = U_values[-1]"
      ],
      "metadata": {
        "id": "rm2VULcRPSnO"
      },
      "execution_count": null,
      "outputs": []
    },
    {
      "cell_type": "markdown",
      "source": [
        "### Read Temperature data in for Birmingham UK"
      ],
      "metadata": {
        "id": "GQNKgYUyTKXm"
      }
    },
    {
      "cell_type": "code",
      "source": [
        "Path = 'https://github.com/Aadam03/Efficient-Use-of-Energy/raw/main/Birmingham%20Weather%20Data.xlsx'\n",
        "\n",
        "weather_data = pd.read_excel(Path)\n",
        "\n",
        "\n",
        "weather_data['datetime'] = pd.to_datetime(weather_data['datetime'])\n",
        "# Set 'date' as the index\n",
        "weather_data.set_index('datetime', inplace=True)\n",
        "\n",
        "# Resample data to weekly frequency and sum the values\n",
        "weather_data_weekly = weather_data.resample('W-Mon').mean()\n",
        "\n",
        "# Reset the index to make 'date' a regular column again\n",
        "weather_data_weekly.reset_index(inplace=True)\n",
        "\n",
        "weather_data.reset_index(inplace=True)\n",
        "\n",
        "\n",
        "\n",
        "Temperatures = (weather_data_weekly['temp'])\n",
        "Temperatures= Temperatures.apply(lambda x: 20 if x >= 15 else x)\n"
      ],
      "metadata": {
        "colab": {
          "base_uri": "https://localhost:8080/"
        },
        "id": "VfHTxs-8R87o",
        "outputId": "87b8f3ca-9021-404b-dff2-1e83c17bec57"
      },
      "execution_count": null,
      "outputs": [
        {
          "output_type": "stream",
          "name": "stderr",
          "text": [
            "<ipython-input-539-27397eac65a3>:11: FutureWarning: The default value of numeric_only in DataFrameGroupBy.mean is deprecated. In a future version, numeric_only will default to False. Either specify numeric_only or select only columns which should be valid for the function.\n",
            "  weather_data_weekly = weather_data.resample('W-Mon').mean()\n"
          ]
        }
      ]
    },
    {
      "cell_type": "code",
      "source": [],
      "metadata": {
        "id": "hq3y2IS_MVFq"
      },
      "execution_count": null,
      "outputs": []
    },
    {
      "cell_type": "code",
      "source": [
        "weather_data_2023 = weather_data[weather_data['datetime'] <= '2023-12-31']"
      ],
      "metadata": {
        "id": "wmEqe0Fcg6qA"
      },
      "execution_count": null,
      "outputs": []
    },
    {
      "cell_type": "code",
      "source": [
        "Temperature = weather_data_2023['temp']\n",
        "feels_like = weather_data_2023['feelslike']\n",
        "\n",
        "Temperatures = Temperature.apply(lambda x: 20 if x >= 15 else x)"
      ],
      "metadata": {
        "id": "tL5AccyLggbV"
      },
      "execution_count": null,
      "outputs": []
    },
    {
      "cell_type": "code",
      "source": [
        "Degree_Days = (20 - Temperatures)\n",
        "Degree_Days.sum()"
      ],
      "metadata": {
        "colab": {
          "base_uri": "https://localhost:8080/"
        },
        "id": "o2qkw8KZhitn",
        "outputId": "dbf92db5-ebac-4366-df02-222e214641e3"
      },
      "execution_count": null,
      "outputs": [
        {
          "output_type": "execute_result",
          "data": {
            "text/plain": [
              "3057.0"
            ]
          },
          "metadata": {},
          "execution_count": 542
        }
      ]
    },
    {
      "cell_type": "code",
      "source": [
        "Daily_heat_load = Total_U * Degree_Days\n",
        "Annual_heat_load_base_case = Daily_heat_load.sum()\n",
        "Annual_heat_load_base_case"
      ],
      "metadata": {
        "colab": {
          "base_uri": "https://localhost:8080/"
        },
        "id": "dgD37prZjAyN",
        "outputId": "2e5ea56e-cf85-4c1c-e45d-e7b853098b31"
      },
      "execution_count": null,
      "outputs": [
        {
          "output_type": "execute_result",
          "data": {
            "text/plain": [
              "12576.640218578053"
            ]
          },
          "metadata": {},
          "execution_count": 543
        }
      ]
    },
    {
      "cell_type": "markdown",
      "source": [
        "### Circulation"
      ],
      "metadata": {
        "id": "5hrLM78asAeV"
      }
    },
    {
      "cell_type": "code",
      "source": [
        "Rho = 1.2367 # kg/m^3\n",
        "cp = 0.00028 # kWh/(kg*K)\n",
        "Volume['Exchanges'] = [4,0.5,0.5,0.5,0.5,0.5,0.5,0.5,0.5,1,4]\n",
        "Volume['Open Factor'] = [1/24,2/24,0,0/24,0/24,0/24,0,1/24,1/24,2/24,1/24]\n",
        "Volume['RHO_V_CP_Ex_fac'] = Rho * cp * Volume['Volume (m^3)']*Volume['Exchanges'] * Volume['Open Factor']*24\n",
        "before_D = Volume['RHO_V_CP_Ex_fac'].sum() # sum rho * Vi * cp * exchanges * open factor\n",
        "\n",
        "Q_vent = before_D * (20-Degree_Days)\n",
        "Q_vent.sum()\n",
        "\n",
        "Volume"
      ],
      "metadata": {
        "colab": {
          "base_uri": "https://localhost:8080/",
          "height": 394
        },
        "id": "aAHSzch1sH6h",
        "outputId": "6d4d5491-0060-4dc2-95d8-9b669e386fa1"
      },
      "execution_count": null,
      "outputs": [
        {
          "output_type": "execute_result",
          "data": {
            "text/plain": [
              "               Upstairs Room  Volume (m^3)  Exchanges  Open Factor  \\\n",
              "0         Upstairs  Bathroom     10.769000        4.0     0.041667   \n",
              "1             Upstairs  Umar     12.604625        0.5     0.083333   \n",
              "2          Upstairs  Hallway     10.155600        0.5     0.000000   \n",
              "3            Upstairs Haroon     23.155688        0.5     0.000000   \n",
              "4              Upstairs  Mom     48.925000        0.5     0.000000   \n",
              "5            Upstairs  Attic     31.893750        0.5     0.000000   \n",
              "6        Downstairs  Hallway      9.745312        0.5     0.000000   \n",
              "7     Downstairs  Front Room     38.300391        0.5     0.041667   \n",
              "8   Downstairs  Living Room      39.926250        0.5     0.041667   \n",
              "9        Downstairs  Kitchen     20.694844        1.0     0.083333   \n",
              "10        Downstairs  Toilet     12.928125        4.0     0.041667   \n",
              "\n",
              "    RHO_V_CP_Ex_fac  \n",
              "0          0.014916  \n",
              "1          0.004365  \n",
              "2          0.000000  \n",
              "3          0.000000  \n",
              "4          0.000000  \n",
              "5          0.000000  \n",
              "6          0.000000  \n",
              "7          0.006631  \n",
              "8          0.006913  \n",
              "9          0.014332  \n",
              "10         0.017907  "
            ],
            "text/html": [
              "\n",
              "  <div id=\"df-156bf1da-21b0-4b84-9342-ac1ba47fcefd\" class=\"colab-df-container\">\n",
              "    <div>\n",
              "<style scoped>\n",
              "    .dataframe tbody tr th:only-of-type {\n",
              "        vertical-align: middle;\n",
              "    }\n",
              "\n",
              "    .dataframe tbody tr th {\n",
              "        vertical-align: top;\n",
              "    }\n",
              "\n",
              "    .dataframe thead th {\n",
              "        text-align: right;\n",
              "    }\n",
              "</style>\n",
              "<table border=\"1\" class=\"dataframe\">\n",
              "  <thead>\n",
              "    <tr style=\"text-align: right;\">\n",
              "      <th></th>\n",
              "      <th>Upstairs Room</th>\n",
              "      <th>Volume (m^3)</th>\n",
              "      <th>Exchanges</th>\n",
              "      <th>Open Factor</th>\n",
              "      <th>RHO_V_CP_Ex_fac</th>\n",
              "    </tr>\n",
              "  </thead>\n",
              "  <tbody>\n",
              "    <tr>\n",
              "      <th>0</th>\n",
              "      <td>Upstairs  Bathroom</td>\n",
              "      <td>10.769000</td>\n",
              "      <td>4.0</td>\n",
              "      <td>0.041667</td>\n",
              "      <td>0.014916</td>\n",
              "    </tr>\n",
              "    <tr>\n",
              "      <th>1</th>\n",
              "      <td>Upstairs  Umar</td>\n",
              "      <td>12.604625</td>\n",
              "      <td>0.5</td>\n",
              "      <td>0.083333</td>\n",
              "      <td>0.004365</td>\n",
              "    </tr>\n",
              "    <tr>\n",
              "      <th>2</th>\n",
              "      <td>Upstairs  Hallway</td>\n",
              "      <td>10.155600</td>\n",
              "      <td>0.5</td>\n",
              "      <td>0.000000</td>\n",
              "      <td>0.000000</td>\n",
              "    </tr>\n",
              "    <tr>\n",
              "      <th>3</th>\n",
              "      <td>Upstairs Haroon</td>\n",
              "      <td>23.155688</td>\n",
              "      <td>0.5</td>\n",
              "      <td>0.000000</td>\n",
              "      <td>0.000000</td>\n",
              "    </tr>\n",
              "    <tr>\n",
              "      <th>4</th>\n",
              "      <td>Upstairs  Mom</td>\n",
              "      <td>48.925000</td>\n",
              "      <td>0.5</td>\n",
              "      <td>0.000000</td>\n",
              "      <td>0.000000</td>\n",
              "    </tr>\n",
              "    <tr>\n",
              "      <th>5</th>\n",
              "      <td>Upstairs  Attic</td>\n",
              "      <td>31.893750</td>\n",
              "      <td>0.5</td>\n",
              "      <td>0.000000</td>\n",
              "      <td>0.000000</td>\n",
              "    </tr>\n",
              "    <tr>\n",
              "      <th>6</th>\n",
              "      <td>Downstairs  Hallway</td>\n",
              "      <td>9.745312</td>\n",
              "      <td>0.5</td>\n",
              "      <td>0.000000</td>\n",
              "      <td>0.000000</td>\n",
              "    </tr>\n",
              "    <tr>\n",
              "      <th>7</th>\n",
              "      <td>Downstairs  Front Room</td>\n",
              "      <td>38.300391</td>\n",
              "      <td>0.5</td>\n",
              "      <td>0.041667</td>\n",
              "      <td>0.006631</td>\n",
              "    </tr>\n",
              "    <tr>\n",
              "      <th>8</th>\n",
              "      <td>Downstairs  Living Room</td>\n",
              "      <td>39.926250</td>\n",
              "      <td>0.5</td>\n",
              "      <td>0.041667</td>\n",
              "      <td>0.006913</td>\n",
              "    </tr>\n",
              "    <tr>\n",
              "      <th>9</th>\n",
              "      <td>Downstairs  Kitchen</td>\n",
              "      <td>20.694844</td>\n",
              "      <td>1.0</td>\n",
              "      <td>0.083333</td>\n",
              "      <td>0.014332</td>\n",
              "    </tr>\n",
              "    <tr>\n",
              "      <th>10</th>\n",
              "      <td>Downstairs  Toilet</td>\n",
              "      <td>12.928125</td>\n",
              "      <td>4.0</td>\n",
              "      <td>0.041667</td>\n",
              "      <td>0.017907</td>\n",
              "    </tr>\n",
              "  </tbody>\n",
              "</table>\n",
              "</div>\n",
              "    <div class=\"colab-df-buttons\">\n",
              "\n",
              "  <div class=\"colab-df-container\">\n",
              "    <button class=\"colab-df-convert\" onclick=\"convertToInteractive('df-156bf1da-21b0-4b84-9342-ac1ba47fcefd')\"\n",
              "            title=\"Convert this dataframe to an interactive table.\"\n",
              "            style=\"display:none;\">\n",
              "\n",
              "  <svg xmlns=\"http://www.w3.org/2000/svg\" height=\"24px\" viewBox=\"0 -960 960 960\">\n",
              "    <path d=\"M120-120v-720h720v720H120Zm60-500h600v-160H180v160Zm220 220h160v-160H400v160Zm0 220h160v-160H400v160ZM180-400h160v-160H180v160Zm440 0h160v-160H620v160ZM180-180h160v-160H180v160Zm440 0h160v-160H620v160Z\"/>\n",
              "  </svg>\n",
              "    </button>\n",
              "\n",
              "  <style>\n",
              "    .colab-df-container {\n",
              "      display:flex;\n",
              "      gap: 12px;\n",
              "    }\n",
              "\n",
              "    .colab-df-convert {\n",
              "      background-color: #E8F0FE;\n",
              "      border: none;\n",
              "      border-radius: 50%;\n",
              "      cursor: pointer;\n",
              "      display: none;\n",
              "      fill: #1967D2;\n",
              "      height: 32px;\n",
              "      padding: 0 0 0 0;\n",
              "      width: 32px;\n",
              "    }\n",
              "\n",
              "    .colab-df-convert:hover {\n",
              "      background-color: #E2EBFA;\n",
              "      box-shadow: 0px 1px 2px rgba(60, 64, 67, 0.3), 0px 1px 3px 1px rgba(60, 64, 67, 0.15);\n",
              "      fill: #174EA6;\n",
              "    }\n",
              "\n",
              "    .colab-df-buttons div {\n",
              "      margin-bottom: 4px;\n",
              "    }\n",
              "\n",
              "    [theme=dark] .colab-df-convert {\n",
              "      background-color: #3B4455;\n",
              "      fill: #D2E3FC;\n",
              "    }\n",
              "\n",
              "    [theme=dark] .colab-df-convert:hover {\n",
              "      background-color: #434B5C;\n",
              "      box-shadow: 0px 1px 3px 1px rgba(0, 0, 0, 0.15);\n",
              "      filter: drop-shadow(0px 1px 2px rgba(0, 0, 0, 0.3));\n",
              "      fill: #FFFFFF;\n",
              "    }\n",
              "  </style>\n",
              "\n",
              "    <script>\n",
              "      const buttonEl =\n",
              "        document.querySelector('#df-156bf1da-21b0-4b84-9342-ac1ba47fcefd button.colab-df-convert');\n",
              "      buttonEl.style.display =\n",
              "        google.colab.kernel.accessAllowed ? 'block' : 'none';\n",
              "\n",
              "      async function convertToInteractive(key) {\n",
              "        const element = document.querySelector('#df-156bf1da-21b0-4b84-9342-ac1ba47fcefd');\n",
              "        const dataTable =\n",
              "          await google.colab.kernel.invokeFunction('convertToInteractive',\n",
              "                                                    [key], {});\n",
              "        if (!dataTable) return;\n",
              "\n",
              "        const docLinkHtml = 'Like what you see? Visit the ' +\n",
              "          '<a target=\"_blank\" href=https://colab.research.google.com/notebooks/data_table.ipynb>data table notebook</a>'\n",
              "          + ' to learn more about interactive tables.';\n",
              "        element.innerHTML = '';\n",
              "        dataTable['output_type'] = 'display_data';\n",
              "        await google.colab.output.renderOutput(dataTable, element);\n",
              "        const docLink = document.createElement('div');\n",
              "        docLink.innerHTML = docLinkHtml;\n",
              "        element.appendChild(docLink);\n",
              "      }\n",
              "    </script>\n",
              "  </div>\n",
              "\n",
              "\n",
              "<div id=\"df-8604e860-3b38-4178-8534-c66ccc85e63d\">\n",
              "  <button class=\"colab-df-quickchart\" onclick=\"quickchart('df-8604e860-3b38-4178-8534-c66ccc85e63d')\"\n",
              "            title=\"Suggest charts\"\n",
              "            style=\"display:none;\">\n",
              "\n",
              "<svg xmlns=\"http://www.w3.org/2000/svg\" height=\"24px\"viewBox=\"0 0 24 24\"\n",
              "     width=\"24px\">\n",
              "    <g>\n",
              "        <path d=\"M19 3H5c-1.1 0-2 .9-2 2v14c0 1.1.9 2 2 2h14c1.1 0 2-.9 2-2V5c0-1.1-.9-2-2-2zM9 17H7v-7h2v7zm4 0h-2V7h2v10zm4 0h-2v-4h2v4z\"/>\n",
              "    </g>\n",
              "</svg>\n",
              "  </button>\n",
              "\n",
              "<style>\n",
              "  .colab-df-quickchart {\n",
              "      --bg-color: #E8F0FE;\n",
              "      --fill-color: #1967D2;\n",
              "      --hover-bg-color: #E2EBFA;\n",
              "      --hover-fill-color: #174EA6;\n",
              "      --disabled-fill-color: #AAA;\n",
              "      --disabled-bg-color: #DDD;\n",
              "  }\n",
              "\n",
              "  [theme=dark] .colab-df-quickchart {\n",
              "      --bg-color: #3B4455;\n",
              "      --fill-color: #D2E3FC;\n",
              "      --hover-bg-color: #434B5C;\n",
              "      --hover-fill-color: #FFFFFF;\n",
              "      --disabled-bg-color: #3B4455;\n",
              "      --disabled-fill-color: #666;\n",
              "  }\n",
              "\n",
              "  .colab-df-quickchart {\n",
              "    background-color: var(--bg-color);\n",
              "    border: none;\n",
              "    border-radius: 50%;\n",
              "    cursor: pointer;\n",
              "    display: none;\n",
              "    fill: var(--fill-color);\n",
              "    height: 32px;\n",
              "    padding: 0;\n",
              "    width: 32px;\n",
              "  }\n",
              "\n",
              "  .colab-df-quickchart:hover {\n",
              "    background-color: var(--hover-bg-color);\n",
              "    box-shadow: 0 1px 2px rgba(60, 64, 67, 0.3), 0 1px 3px 1px rgba(60, 64, 67, 0.15);\n",
              "    fill: var(--button-hover-fill-color);\n",
              "  }\n",
              "\n",
              "  .colab-df-quickchart-complete:disabled,\n",
              "  .colab-df-quickchart-complete:disabled:hover {\n",
              "    background-color: var(--disabled-bg-color);\n",
              "    fill: var(--disabled-fill-color);\n",
              "    box-shadow: none;\n",
              "  }\n",
              "\n",
              "  .colab-df-spinner {\n",
              "    border: 2px solid var(--fill-color);\n",
              "    border-color: transparent;\n",
              "    border-bottom-color: var(--fill-color);\n",
              "    animation:\n",
              "      spin 1s steps(1) infinite;\n",
              "  }\n",
              "\n",
              "  @keyframes spin {\n",
              "    0% {\n",
              "      border-color: transparent;\n",
              "      border-bottom-color: var(--fill-color);\n",
              "      border-left-color: var(--fill-color);\n",
              "    }\n",
              "    20% {\n",
              "      border-color: transparent;\n",
              "      border-left-color: var(--fill-color);\n",
              "      border-top-color: var(--fill-color);\n",
              "    }\n",
              "    30% {\n",
              "      border-color: transparent;\n",
              "      border-left-color: var(--fill-color);\n",
              "      border-top-color: var(--fill-color);\n",
              "      border-right-color: var(--fill-color);\n",
              "    }\n",
              "    40% {\n",
              "      border-color: transparent;\n",
              "      border-right-color: var(--fill-color);\n",
              "      border-top-color: var(--fill-color);\n",
              "    }\n",
              "    60% {\n",
              "      border-color: transparent;\n",
              "      border-right-color: var(--fill-color);\n",
              "    }\n",
              "    80% {\n",
              "      border-color: transparent;\n",
              "      border-right-color: var(--fill-color);\n",
              "      border-bottom-color: var(--fill-color);\n",
              "    }\n",
              "    90% {\n",
              "      border-color: transparent;\n",
              "      border-bottom-color: var(--fill-color);\n",
              "    }\n",
              "  }\n",
              "</style>\n",
              "\n",
              "  <script>\n",
              "    async function quickchart(key) {\n",
              "      const quickchartButtonEl =\n",
              "        document.querySelector('#' + key + ' button');\n",
              "      quickchartButtonEl.disabled = true;  // To prevent multiple clicks.\n",
              "      quickchartButtonEl.classList.add('colab-df-spinner');\n",
              "      try {\n",
              "        const charts = await google.colab.kernel.invokeFunction(\n",
              "            'suggestCharts', [key], {});\n",
              "      } catch (error) {\n",
              "        console.error('Error during call to suggestCharts:', error);\n",
              "      }\n",
              "      quickchartButtonEl.classList.remove('colab-df-spinner');\n",
              "      quickchartButtonEl.classList.add('colab-df-quickchart-complete');\n",
              "    }\n",
              "    (() => {\n",
              "      let quickchartButtonEl =\n",
              "        document.querySelector('#df-8604e860-3b38-4178-8534-c66ccc85e63d button');\n",
              "      quickchartButtonEl.style.display =\n",
              "        google.colab.kernel.accessAllowed ? 'block' : 'none';\n",
              "    })();\n",
              "  </script>\n",
              "</div>\n",
              "    </div>\n",
              "  </div>\n"
            ]
          },
          "metadata": {},
          "execution_count": 544
        }
      ]
    },
    {
      "cell_type": "markdown",
      "source": [
        "### Heat Loss\n"
      ],
      "metadata": {
        "id": "iZ7WiM1IMJNB"
      }
    },
    {
      "cell_type": "code",
      "source": [
        "\n",
        "# URL of the CSV file on GitHub\n",
        "url1 = \"https://github.com/Aadam03/Efficient-Use-of-Energy/raw/main/Elec%20Data.csv\"\n",
        "\n",
        "# Read the CSV file into a DataFrame\n",
        "df1 = pd.read_csv(url1)\n",
        "\n",
        "# URL of the CSV file on GitHub\n",
        "url2 = \"https://github.com/Aadam03/Efficient-Use-of-Energy/raw/main/Gas%20Data.csv\"\n",
        "\n",
        "# Read the CSV file into a DataFrame\n",
        "df2 = pd.read_csv(url2)\n",
        "\n",
        "\n",
        "Elec_data = df1\n",
        "Gas_data = df2\n",
        "Elec_data = Elec_data.groupby(Elec_data[' Start'])['Consumption (kWh)'].sum().reset_index()  #KWh\n",
        "Gas_data = Gas_data.groupby(Gas_data[' Start'])['Consumption (m³)'].sum().reset_index()  #KWh\n",
        "Elec_data['date'] = pd.to_datetime(Elec_data[' Start'], utc=True)\n",
        "# Gas_data['date'] = pd.to_datetime(Gas_data[' Start'], utc=True)\n",
        "Gas_data['Consumption (kWh)'] = Gas_data['Consumption (m³)']* 1.02264 *  39.1 /  3.6 #kWh\n",
        "# Gas_data['date'] = Gas_data['date'].dt.date\n",
        "Elec_data['date'] = Elec_data['date'].dt.date\n",
        "Gas_data['Consumption (kWh)'].sum()"
      ],
      "metadata": {
        "colab": {
          "base_uri": "https://localhost:8080/"
        },
        "id": "mahajC0EUp6l",
        "outputId": "ce88d643-9b19-41ad-bdee-07a0fcafc5e9"
      },
      "execution_count": null,
      "outputs": [
        {
          "output_type": "execute_result",
          "data": {
            "text/plain": [
              "1463.3814493533334"
            ]
          },
          "metadata": {},
          "execution_count": 545
        }
      ]
    },
    {
      "cell_type": "code",
      "source": [
        "Elec_data['date'] = pd.to_datetime(Elec_data['date'])\n",
        "# Set 'date' as the index\n",
        "Elec_data.set_index('date', inplace=True)\n",
        "\n",
        "# Resample data to weekly frequency and sum the values\n",
        "Elec_data = Elec_data.resample('W-Mon').sum()\n",
        "\n",
        "# Reset the index to make 'date' a regular column again\n",
        "Elec_data.reset_index(inplace=True)\n",
        "\n",
        "\n",
        "\n",
        "Gas_data['date'] = pd.to_datetime(Gas_data[' Start'], utc=True) # Daily Data\n",
        "Gas_data['date'] = Gas_data['date'].dt.date\n",
        "Gas_data['Consumption (kWh)'].sum()\n",
        "\n",
        "Gas_data['date'] = pd.to_datetime(Gas_data['date'])\n",
        "# Set 'date' as the index\n",
        "Gas_data.set_index('date', inplace=True)\n",
        "\n",
        "# Resample data to weekly frequency and sum the values\n",
        "Gas_data = Gas_data.resample('W-Mon').sum()\n",
        "\n",
        "# Reset the index to make 'date' a regular column again\n",
        "Gas_data.reset_index(inplace=True)\n",
        "\n",
        "Gas_Data = Gas_data[(Gas_data['date'] >= '2023-01-01') & (Gas_data['date'] <= '2023-12-31')]\n",
        "\n",
        "\n",
        "Elec_data = Elec_data[(Elec_data['date'] >= '2023-01-01') & (Elec_data['date'] <= '2023-12-31')]\n"
      ],
      "metadata": {
        "colab": {
          "base_uri": "https://localhost:8080/"
        },
        "id": "aemAbipVXp0R",
        "outputId": "3cdb8f75-cd88-4770-eb1c-c01ed22b1409"
      },
      "execution_count": null,
      "outputs": [
        {
          "output_type": "stream",
          "name": "stderr",
          "text": [
            "<ipython-input-546-cb101205f4c0>:6: FutureWarning: The default value of numeric_only in DataFrameGroupBy.sum is deprecated. In a future version, numeric_only will default to False. Either specify numeric_only or select only columns which should be valid for the function.\n",
            "  Elec_data = Elec_data.resample('W-Mon').sum()\n",
            "<ipython-input-546-cb101205f4c0>:22: FutureWarning: The default value of numeric_only in DataFrameGroupBy.sum is deprecated. In a future version, numeric_only will default to False. Either specify numeric_only or select only columns which should be valid for the function.\n",
            "  Gas_data = Gas_data.resample('W-Mon').sum()\n"
          ]
        }
      ]
    },
    {
      "cell_type": "code",
      "source": [
        "Total_gas_consumption_2023 = Gas_Data['Consumption (kWh)'].sum()\n",
        "Total_elec_consumption_2023 = Elec_data.sum()"
      ],
      "metadata": {
        "colab": {
          "base_uri": "https://localhost:8080/"
        },
        "id": "44zxlDH2airL",
        "outputId": "42a3e3b9-41fe-4578-9fcd-c5dbfdef189e"
      },
      "execution_count": null,
      "outputs": [
        {
          "output_type": "stream",
          "name": "stderr",
          "text": [
            "<ipython-input-547-8bf456ed0b2d>:2: FutureWarning: The default value of numeric_only in DataFrame.sum is deprecated. In a future version, it will default to False. In addition, specifying 'numeric_only=None' is deprecated. Select only valid columns or specify the value of numeric_only to silence this warning.\n",
            "  Total_elec_consumption_2023 = Elec_data.sum()\n"
          ]
        }
      ]
    },
    {
      "cell_type": "code",
      "source": [
        "Total_elec_consumption_2023"
      ],
      "metadata": {
        "colab": {
          "base_uri": "https://localhost:8080/"
        },
        "id": "kcbN1WYm-Zbi",
        "outputId": "6cab397a-7d55-4a1d-84f9-378ae14a402a"
      },
      "execution_count": null,
      "outputs": [
        {
          "output_type": "execute_result",
          "data": {
            "text/plain": [
              "Consumption (kWh)    3215.575\n",
              "dtype: float64"
            ]
          },
          "metadata": {},
          "execution_count": 548
        }
      ]
    },
    {
      "cell_type": "code",
      "source": [
        "url = 'https://github.com/Aadam03/Efficient-Use-of-Energy/raw/main/u_values.xlsx'\n",
        "#url =  \"https://github.com/Aadam03/Efficient-Use-of-Energy/raw/main/U%20data.xlsx\"\n",
        "\n",
        "\n",
        "sheet_name = 'Uvalues and areas'\n",
        "U_values = pd.read_excel(url,sheet_name=sheet_name)\n",
        "\n",
        "Q_window_summer = U_values['UA_summer'][0]"
      ],
      "metadata": {
        "id": "TSP2XpbXMMXQ"
      },
      "execution_count": null,
      "outputs": []
    },
    {
      "cell_type": "code",
      "source": [
        "Q_window_summer = U_values['UA_summer'][0] * Degree_Days\n",
        "Q_window_winter = U_values['UA_winter'][0] * Degree_Days"
      ],
      "metadata": {
        "id": "o7HSz-K4Mw0S"
      },
      "execution_count": null,
      "outputs": []
    },
    {
      "cell_type": "code",
      "source": [
        "Q_Door_summer = U_values['UA_summer'][1] * Degree_Days\n",
        "Q_Door_winter = U_values['UA_winter'][1] * Degree_Days"
      ],
      "metadata": {
        "id": "aUF6GT6FM6xa"
      },
      "execution_count": null,
      "outputs": []
    },
    {
      "cell_type": "code",
      "source": [
        "Q_wall_summer = U_values['UA_summer'][2] * Degree_Days\n",
        "Q_wall_winter = U_values['UA_winter'][2] * Degree_Days"
      ],
      "metadata": {
        "id": "QoTy4HX5NNTb"
      },
      "execution_count": null,
      "outputs": []
    },
    {
      "cell_type": "code",
      "source": [
        "Q_roof_summer = U_values['UA_summer'][3] * Degree_Days\n",
        "Q_roof_winter = U_values['UA_winter'][3] * Degree_Days"
      ],
      "metadata": {
        "id": "ZpHax2wCNR2D"
      },
      "execution_count": null,
      "outputs": []
    },
    {
      "cell_type": "code",
      "source": [
        "Q_total_summer = Q_window_summer+Q_Door_summer+Q_wall_summer+Q_roof_summer\n",
        "Q_total_winter = Q_window_winter+Q_Door_winter+Q_wall_winter+Q_roof_winter\n"
      ],
      "metadata": {
        "id": "eNLMpHvyNYRz"
      },
      "execution_count": null,
      "outputs": []
    },
    {
      "cell_type": "code",
      "source": [
        "Q_total_summer"
      ],
      "metadata": {
        "colab": {
          "base_uri": "https://localhost:8080/"
        },
        "id": "0XsHtsPON5F8",
        "outputId": "7403ec04-507f-4216-bbab-afca2832f44b"
      },
      "execution_count": null,
      "outputs": [
        {
          "output_type": "execute_result",
          "data": {
            "text/plain": [
              "0      405.856480\n",
              "1      572.547534\n",
              "2      445.717384\n",
              "3      289.897486\n",
              "4      340.629546\n",
              "          ...    \n",
              "360    394.985324\n",
              "361    373.243013\n",
              "362    481.954570\n",
              "363    445.717384\n",
              "364    478.330851\n",
              "Name: temp, Length: 365, dtype: float64"
            ]
          },
          "metadata": {},
          "execution_count": 555
        }
      ]
    },
    {
      "cell_type": "code",
      "source": [
        "Q_total_winter"
      ],
      "metadata": {
        "id": "CGAqmqxsN6tk",
        "outputId": "0625756d-e00a-4932-9ddc-8ff30aa39fcc",
        "colab": {
          "base_uri": "https://localhost:8080/"
        }
      },
      "execution_count": null,
      "outputs": [
        {
          "output_type": "execute_result",
          "data": {
            "text/plain": [
              "0      396.345560\n",
              "1      559.130343\n",
              "2      435.272356\n",
              "3      283.103971\n",
              "4      332.647166\n",
              "          ...    \n",
              "360    385.729161\n",
              "361    364.496363\n",
              "362    470.660352\n",
              "363    435.272356\n",
              "364    467.121552\n",
              "Name: temp, Length: 365, dtype: float64"
            ]
          },
          "metadata": {},
          "execution_count": 556
        }
      ]
    },
    {
      "cell_type": "code",
      "source": [
        "Q_total_winter/1000 *24"
      ],
      "metadata": {
        "id": "RtkydFX-N8Cb",
        "outputId": "995f1b25-3862-49dc-a8ba-dd349c4428cd",
        "colab": {
          "base_uri": "https://localhost:8080/"
        }
      },
      "execution_count": null,
      "outputs": [
        {
          "output_type": "execute_result",
          "data": {
            "text/plain": [
              "0       9.512293\n",
              "1      13.419128\n",
              "2      10.446537\n",
              "3       6.794495\n",
              "4       7.983532\n",
              "         ...    \n",
              "360     9.257500\n",
              "361     8.747913\n",
              "362    11.295848\n",
              "363    10.446537\n",
              "364    11.210917\n",
              "Name: temp, Length: 365, dtype: float64"
            ]
          },
          "metadata": {},
          "execution_count": 557
        }
      ]
    },
    {
      "cell_type": "code",
      "source": [
        "Q_total = (Q_total_summer + Q_total_winter)/4* 24/1000\n",
        "Q_total + Q_vent.sum()\n",
        "\n",
        "Total_elec_consumption_2023"
      ],
      "metadata": {
        "colab": {
          "base_uri": "https://localhost:8080/"
        },
        "id": "xDssaewXTUUw",
        "outputId": "48e32a5f-0735-4771-94a2-9257e1e98963"
      },
      "execution_count": null,
      "outputs": [
        {
          "output_type": "execute_result",
          "data": {
            "text/plain": [
              "Consumption (kWh)    3215.575\n",
              "dtype: float64"
            ]
          },
          "metadata": {},
          "execution_count": 558
        }
      ]
    },
    {
      "cell_type": "code",
      "source": [
        "Total_gas_consumption_2023\n"
      ],
      "metadata": {
        "colab": {
          "base_uri": "https://localhost:8080/"
        },
        "id": "1qDkzaLSbNWc",
        "outputId": "2daab5e0-4aba-4654-eb43-523961cbccb8"
      },
      "execution_count": null,
      "outputs": [
        {
          "output_type": "execute_result",
          "data": {
            "text/plain": [
              "820.5412245066668"
            ]
          },
          "metadata": {},
          "execution_count": 559
        }
      ]
    },
    {
      "cell_type": "code",
      "source": [
        "Q_loss = Q_total + Q_vent\n",
        "\n",
        "Q_loss_vacant =  Q_loss\n",
        "\n",
        "Q_loss_vacant.sum()"
      ],
      "metadata": {
        "colab": {
          "base_uri": "https://localhost:8080/"
        },
        "id": "SYa26fkmbRUr",
        "outputId": "d2a8b3e9-0f6a-42c6-88f3-b974e18fe814"
      },
      "execution_count": null,
      "outputs": [
        {
          "output_type": "execute_result",
          "data": {
            "text/plain": [
              "1589.8153080272089"
            ]
          },
          "metadata": {},
          "execution_count": 560
        }
      ]
    },
    {
      "cell_type": "code",
      "source": [
        "Heat_gains_daily =  558/365\n",
        "\n",
        "heat_gains = np.zeros_like(Q_loss)\n",
        "heat_gains = Heat_gains_daily +heat_gains"
      ],
      "metadata": {
        "id": "QBdUfzDyYqyI"
      },
      "execution_count": null,
      "outputs": []
    },
    {
      "cell_type": "code",
      "source": [
        "Total_Heating_Demand = Q_loss_vacant - heat_gains\n",
        "\n",
        "weekly_heat_demand = [sum(Total_Heating_Demand[i:i+7]) for i in range(0, len(Total_Heating_Demand), 7)]\n",
        "for i in range(17, 35):\n",
        "    weekly_heat_demand[i] = 0"
      ],
      "metadata": {
        "id": "5jleoOivZUh7"
      },
      "execution_count": null,
      "outputs": []
    },
    {
      "cell_type": "code",
      "source": [
        "weather_data_winter23_2 = weather_data_2023[weather_data_2023['datetime'] >= '2023-01-01']\n",
        "weather_data_winter23_2 = weather_data_2023[weather_data_2023['datetime'] < '2023-05-01']\n",
        "\n",
        "\n",
        "weather_data_summer23 = weather_data_2023[weather_data_2023['datetime'] >= '2023-05-01']\n",
        "weather_data_summer23 = weather_data_2023[weather_data_2023['datetime'] <= '2023-10-01']\n",
        "\n",
        "weather_data_winter23 = weather_data_2023[weather_data_2023['datetime'] >= '2023-10-01']\n",
        "weather_data_winter23 = weather_data_2023[weather_data_2023['datetime'] <= '2023-12-31']\n"
      ],
      "metadata": {
        "id": "e_3tBg8Akt5g"
      },
      "execution_count": null,
      "outputs": []
    },
    {
      "cell_type": "code",
      "source": [
        "\n",
        "\n",
        "# model_w_1= np.array(-1.85 *  weather_data_winter23_2['temp'] + 35)\n",
        "# model_s=np.array(0.22 * weather_data_summer23['temp'] + -1.764)\n",
        "# model_w2=np.array(-1.85 *  weather_data_winter23['temp'] + 35)\n",
        "\n",
        "# Gas_model = np.concatenate(model_w_1,model_s,model_w2)\n",
        "\n",
        "# a = np.array(weather_data_winter23_2)\n",
        "# b = np.array(weather_data_summer23)\n",
        "# c = np.array(weather_data_winter23)\n",
        "# Dates = np.concatentate(a,b,c)\n",
        "\n",
        "import requests\n",
        "from io import StringIO\n",
        "\n",
        "# Download the file from GitHub\n",
        "raw_url = \"https://raw.githubusercontent.com/Aadam03/Efficient-Use-of-Energy/main/consumption_analysis%20(1).py\"\n",
        "response = requests.get(raw_url)\n",
        "response.raise_for_status()\n",
        "\n",
        "# Create a StringIO object to read the file content\n",
        "file_content = StringIO(response.text)\n",
        "\n",
        "# Execute the code\n",
        "try:\n",
        "    exec(file_content.read())\n",
        "except Exception as e:\n",
        "    print(\"Error executing Python script:\", e)\n"
      ],
      "metadata": {
        "id": "FPpz885ibZiA"
      },
      "execution_count": null,
      "outputs": []
    },
    {
      "cell_type": "code",
      "source": [
        "\n",
        "# URL of the CSV file on GitHub\n",
        "url1 = \"https://github.com/Aadam03/Efficient-Use-of-Energy/raw/main/Elec%20Data.csv\"\n",
        "\n",
        "# Read the CSV file into a DataFrame\n",
        "df1 = pd.read_csv(url1)\n",
        "\n",
        "# URL of the CSV file on GitHub\n",
        "url2 = \"https://github.com/Aadam03/Efficient-Use-of-Energy/raw/main/Gas%20Data.csv\"\n",
        "\n",
        "# Read the CSV file into a DataFrame\n",
        "df2 = pd.read_csv(url2)\n",
        "\n",
        "\n",
        "Elec_data = df1\n",
        "Gas_data = df2\n",
        "Elec_data = Elec_data.groupby(Elec_data[' Start'])['Consumption (kWh)'].sum().reset_index()  #KWh\n",
        "Gas_data = Gas_data.groupby(Gas_data[' Start'])['Consumption (m³)'].sum().reset_index()  #KWh\n",
        "Elec_data['date'] = pd.to_datetime(Elec_data[' Start'], utc=True)\n",
        "# Gas_data['date'] = pd.to_datetime(Gas_data[' Start'], utc=True)\n",
        "Gas_data['Consumption (kWh)'] = Gas_data['Consumption (m³)']* 1.02264 *  39.1 /  3.6 #kWh\n",
        "# Gas_data['date'] = Gas_data['date'].dt.date\n",
        "Elec_data['date'] = Elec_data['date'].dt.date\n",
        "Gas_data['Consumption (kWh)'].sum()\n",
        "\n",
        "\n",
        "Elec_data['date'] = pd.to_datetime(Elec_data['date'])\n",
        "# Set 'date' as the index\n",
        "Elec_data.set_index('date', inplace=True)\n",
        "\n",
        "# Resample data to weekly frequency and sum the values\n",
        "Elec_data = Elec_data.resample('W-Mon').sum()\n",
        "\n",
        "# Reset the index to make 'date' a regular column again\n",
        "Elec_data.reset_index(inplace=True)\n",
        "\n",
        "\n",
        "\n",
        "Gas_data['date'] = pd.to_datetime(Gas_data[' Start'], utc=True) # Daily Data\n",
        "Gas_data['date'] = Gas_data['date'].dt.date\n",
        "Gas_data['Consumption (kWh)'].sum()\n",
        "\n",
        "Gas_data['date'] = pd.to_datetime(Gas_data['date'])\n",
        "# Set 'date' as the index\n",
        "Gas_data.set_index('date', inplace=True)\n",
        "\n",
        "# Resample data to weekly frequency and sum the values\n",
        "Gas_data = Gas_data.resample('W-Mon').sum()\n",
        "\n",
        "# Reset the index to make 'date' a regular column again\n",
        "Gas_data.reset_index(inplace=True)\n",
        "\n",
        "Gas_Data = Gas_data[(Gas_data['date'] >= '2023-01-01') & (Gas_data['date'] <= '2023-12-31')]\n",
        "\n",
        "\n",
        "Elec_data = Elec_data[(Elec_data['date'] >= '2023-01-01') & (Elec_data['date'] <= '2023-12-31')]"
      ],
      "metadata": {
        "colab": {
          "base_uri": "https://localhost:8080/"
        },
        "id": "Zu_YTqCKqx41",
        "outputId": "80f1113f-3a50-4c52-d1a3-b388700d3857"
      },
      "execution_count": null,
      "outputs": [
        {
          "output_type": "stream",
          "name": "stderr",
          "text": [
            "<ipython-input-565-ca93f07997b4>:31: FutureWarning: The default value of numeric_only in DataFrameGroupBy.sum is deprecated. In a future version, numeric_only will default to False. Either specify numeric_only or select only columns which should be valid for the function.\n",
            "  Elec_data = Elec_data.resample('W-Mon').sum()\n",
            "<ipython-input-565-ca93f07997b4>:47: FutureWarning: The default value of numeric_only in DataFrameGroupBy.sum is deprecated. In a future version, numeric_only will default to False. Either specify numeric_only or select only columns which should be valid for the function.\n",
            "  Gas_data = Gas_data.resample('W-Mon').sum()\n"
          ]
        }
      ]
    },
    {
      "cell_type": "code",
      "source": [
        "import matplotlib.pyplot as plt\n",
        "from matplotlib.dates import MonthLocator, DateFormatter\n",
        "from datetime import datetime\n",
        "\n",
        "\n",
        "\n",
        "# Increase figure size\n",
        "plt.figure(figsize=(8, 6))  # Adjust the width and height as needed\n",
        "\n",
        "plt.scatter(Gaseous_data['Date'], Gaseous_data['Consumption (Kwh)'], label='Actual Consumption', color='green')\n",
        "plt.plot(all_T, all_G_values, 'r--', label='Regression Model')\n",
        "#plt.scatter(Gas_data['date'],Gas_data['Consumption (kWh)'],label='Actual Gas Consumption')\n",
        "plt.plot(Gas_Data['date'], weekly_heat_demand[0:52], color='orange', linestyle='dashed', label='Heat Transfer Model')\n",
        "plt.legend()\n",
        "plt.grid()\n",
        "plt.xlabel('Date (MM/YY)')\n",
        "plt.ylabel('Consumption (kWh)')\n",
        "plt.title('Model Comparison for Gas Consumption')\n",
        "# Set x-axis limits\n",
        "plt.xlim(datetime(2023, 1, 1), datetime(2023, 12, 31))\n",
        "\n",
        "# Set monthly ticks\n",
        "plt.gca().xaxis.set_major_locator(MonthLocator())\n",
        "plt.gca().xaxis.set_major_formatter(DateFormatter('%m/%y'))  # Format as mm/yy\n",
        "# plt.gca().xaxis.set_major_formatter(DateFormatter('%y/%m'))  # Format as yy/mm\n",
        "\n",
        "# Rotate the tick labels for better readability (optional)\n",
        "plt.xticks(rotation=45)\n",
        "\n",
        "# Show the plot\n",
        "plt.show()\n",
        "\n",
        "\n"
      ],
      "metadata": {
        "colab": {
          "base_uri": "https://localhost:8080/",
          "height": 588
        },
        "id": "iXRwuj5Od_rR",
        "outputId": "3400f568-e2c9-463d-e9e5-b4dcccc29617"
      },
      "execution_count": null,
      "outputs": [
        {
          "output_type": "display_data",
          "data": {
            "text/plain": [
              "<Figure size 800x600 with 1 Axes>"
            ],
            "image/png": "[encoded data removed]"
          },
          "metadata": {}
        }
      ]
    },
    {
      "cell_type": "code",
      "source": [
        "import numpy as np\n",
        "\n",
        "# Define conditions for winter1, summer1, and winter2\n",
        "winter1_condition = (Elec_data['date'] < '2023-05-01')\n",
        "summer1_condition = ((Elec_data['date'] >= '2023-05-01') & (Elec_data['date'] < '2023-09-20'))\n",
        "winter2_condition = ((Elec_data['date'] >= '2023-09-20') & (Elec_data['date'] < '2023-12-31'))\n",
        "\n",
        "# Select dates based on conditions\n",
        "winter1 = np.array(Elec_data['date'][winter1_condition])\n",
        "summer1 = np.array(Elec_data['date'][summer1_condition])\n",
        "winter2 = np.array(Elec_data['date'][winter2_condition])\n",
        "\n",
        "# Create arrays of zeros with the same shape as selected dates\n",
        "Elec_W1 = np.zeros_like(winter1, dtype=float)\n",
        "Elec_S1 = np.zeros_like(summer1, dtype=float)\n",
        "Elec_W2 = np.zeros_like(winter2, dtype=float)\n",
        "\n",
        "# Assign values to arrays\n",
        "Elec_W1 += 5048 / 52  # electric heating included\n",
        "Elec_S1 += 2320 / 52  # no electric heating\n",
        "Elec_W2 += 5048 / 52  # electric heating included\n",
        "\n",
        "\n",
        "elec_model = np.concatenate([Elec_W1, Elec_S1, Elec_W2])\n",
        "dates2 = np.concatenate([winter1,summer1,winter2])\n"
      ],
      "metadata": {
        "id": "ZDshcqO_uzPn"
      },
      "execution_count": null,
      "outputs": []
    },
    {
      "cell_type": "code",
      "source": [
        "plt.figure(figsize=(8, 6))  # Adjust the width and height as needed\n",
        "\n",
        "plt.scatter(Elec_data['date'],Elec_data['Consumption (kWh)'],label='Actual Consumption')\n",
        "plt.plot(all_T, all_E_values, 'r--', label='Regression Model')\n",
        "plt.plot(dates2,elec_model,label = 'Electric model',color = 'orange',linestyle='dashed')\n",
        "# Set x-axis limits\n",
        "plt.xlim(datetime(2023, 1, 1), datetime(2023, 12, 31))\n",
        "\n",
        "# Set monthly ticks\n",
        "plt.gca().xaxis.set_major_locator(MonthLocator())\n",
        "plt.gca().xaxis.set_major_formatter(DateFormatter('%m/%y'))  # Format as mm/yy\n",
        "# plt.gca().xaxis.set_major_formatter(DateFormatter('%y/%m'))  # Format as yy/mm\n",
        "\n",
        "# Rotate the tick labels for better readability (optional)\n",
        "plt.xticks(rotation=45)\n",
        "plt.ylabel('Consumption (kWh)')\n",
        "plt.title('Model Comparison For Electricity Consumption')\n",
        "plt.xlabel('Date (YY/MM)')\n",
        "plt.grid()\n",
        "# Show the plot\n",
        "plt.legend()\n",
        "plt.show()\n",
        "\n"
      ],
      "metadata": {
        "colab": {
          "base_uri": "https://localhost:8080/",
          "height": 588
        },
        "id": "MXgX3wrguaJs",
        "outputId": "cd67c499-c241-4971-8c72-f3719e5493f7"
      },
      "execution_count": null,
      "outputs": [
        {
          "output_type": "display_data",
          "data": {
            "text/plain": [
              "<Figure size 800x600 with 1 Axes>"
            ],
            "image/png": "[encoded data removed]"
          },
          "metadata": {}
        }
      ]
    },
    {
      "cell_type": "code",
      "source": [
        "all_E_values.sum()\n"
      ],
      "metadata": {
        "colab": {
          "base_uri": "https://localhost:8080/"
        },
        "id": "5-1PMKCv4sQM",
        "outputId": "56263c62-1645-4257-ed9b-6ce88259d9be"
      },
      "execution_count": null,
      "outputs": [
        {
          "output_type": "execute_result",
          "data": {
            "text/plain": [
              "6175.064467513668"
            ]
          },
          "metadata": {},
          "execution_count": 571
        }
      ]
    }
  ]
}